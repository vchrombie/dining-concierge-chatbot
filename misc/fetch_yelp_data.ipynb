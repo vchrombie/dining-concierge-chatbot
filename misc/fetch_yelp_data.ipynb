{
  "nbformat": 4,
  "nbformat_minor": 0,
  "metadata": {
    "colab": {
      "provenance": []
    },
    "kernelspec": {
      "name": "python3",
      "display_name": "Python 3"
    },
    "language_info": {
      "name": "python"
    }
  },
  "cells": [
    {
      "cell_type": "code",
      "execution_count": 5,
      "metadata": {
        "id": "ruT-YtpcYOaB"
      },
      "outputs": [],
      "source": [
        "import json\n",
        "import requests\n",
        "import time\n",
        "\n",
        "from tqdm import tqdm\n",
        "from pprint import pprint"
      ]
    },
    {
      "cell_type": "code",
      "source": [
        "API_KEY = \"YELP_API_KEY\"\n",
        "\n",
        "ENDPOINT = \"https://api.yelp.com/v3/businesses/search\"\n",
        "\n",
        "HEADERS = {\n",
        "    'Authorization': 'Bearer {}'.format(API_KEY)\n",
        "}"
      ],
      "metadata": {
        "id": "nZb1Ti13Tzdk"
      },
      "execution_count": 6,
      "outputs": []
    },
    {
      "cell_type": "code",
      "source": [
        "CUISINES = [\"chinese\", \"indian\", \"japanese\", \"thai\", \"italian\"]\n",
        "\n",
        "seen_ids = set()\n",
        "all_restaurants = []"
      ],
      "metadata": {
        "id": "9ORImQ6XlEhR"
      },
      "execution_count": 7,
      "outputs": []
    },
    {
      "cell_type": "code",
      "source": [
        "def fetch_data_for_cuisine(cuisine):\n",
        "    global seen_ids\n",
        "    restaurants = []\n",
        "    PARAMS = {\n",
        "        'term': f'{cuisine} restaurants',\n",
        "        'location': 'Manhattan, NY',\n",
        "        'limit': 50\n",
        "    }\n",
        "\n",
        "    for _ in tqdm(range(20), desc=cuisine):  # 20 * 50 = 1000\n",
        "        response = requests.get(url=ENDPOINT, headers=HEADERS, params=PARAMS)\n",
        "        if response.status_code == 200:\n",
        "            businesses = response.json()['businesses']\n",
        "            for business in businesses:\n",
        "                if business['id'] not in seen_ids:\n",
        "                    restaurants.append(business)\n",
        "                    seen_ids.add(business['id'])\n",
        "            PARAMS['offset'] = len(restaurants)\n",
        "        elif response.status_code == 429:\n",
        "            # Reached API rate limit\n",
        "            print(\"Rate limit reached! Waiting for 5 minutes...\")\n",
        "            time.sleep(300) # sleep for 5 minutes\n",
        "        else:\n",
        "            print(f\"Error fetching data for {cuisine}!\")\n",
        "            break\n",
        "        time.sleep(1)  # Small delay between requests to be kind to the API.\n",
        "    return restaurants"
      ],
      "metadata": {
        "id": "zC5nxVFUssi5"
      },
      "execution_count": 8,
      "outputs": []
    },
    {
      "cell_type": "code",
      "source": [
        "for cuisine in CUISINES:\n",
        "    data = fetch_data_for_cuisine(cuisine)\n",
        "    all_restaurants.extend(data)"
      ],
      "metadata": {
        "colab": {
          "base_uri": "https://localhost:8080/"
        },
        "id": "ZoTG4OvUssmG",
        "outputId": "557aa84f-f64c-4b7c-9ae9-0006e79637fe"
      },
      "execution_count": 9,
      "outputs": [
        {
          "output_type": "stream",
          "name": "stderr",
          "text": [
            "chinese: 100%|██████████| 20/20 [00:39<00:00,  1.99s/it]\n",
            "indian: 100%|██████████| 20/20 [00:37<00:00,  1.87s/it]\n",
            "japanese: 100%|██████████| 20/20 [00:38<00:00,  1.93s/it]\n",
            "thai: 100%|██████████| 20/20 [00:35<00:00,  1.80s/it]\n",
            "italian: 100%|██████████| 20/20 [00:47<00:00,  2.38s/it]\n"
          ]
        }
      ]
    },
    {
      "cell_type": "code",
      "source": [
        "print(\"Total restaurants\", len(all_restaurants))"
      ],
      "metadata": {
        "colab": {
          "base_uri": "https://localhost:8080/"
        },
        "id": "kBvqJvXXyFEq",
        "outputId": "c73bf1cc-1ec0-455a-d91f-3050fc229450"
      },
      "execution_count": 10,
      "outputs": [
        {
          "output_type": "stream",
          "name": "stdout",
          "text": [
            "Total restaurants 3267\n"
          ]
        }
      ]
    },
    {
      "cell_type": "code",
      "source": [
        "pprint(all_restaurants[0])"
      ],
      "metadata": {
        "colab": {
          "base_uri": "https://localhost:8080/"
        },
        "id": "72HCo0op3xfb",
        "outputId": "6769f822-dd93-401b-809f-6737f0abcffa"
      },
      "execution_count": 12,
      "outputs": [
        {
          "output_type": "stream",
          "name": "stdout",
          "text": [
            "{'alias': 'blue-willow-夜来湘-new-york-2',\n",
            " 'categories': [{'alias': 'szechuan', 'title': 'Szechuan'}],\n",
            " 'coordinates': {'latitude': 40.76292, 'longitude': -73.976546},\n",
            " 'display_phone': '(212) 213-2299',\n",
            " 'distance': 348.0137568924224,\n",
            " 'id': 'XsXLVWr1UZWVhKThNvNiaA',\n",
            " 'image_url': 'https://s3-media2.fl.yelpcdn.com/bphoto/1E59vOqmXZHBlJe0lLBHtA/o.jpg',\n",
            " 'is_closed': False,\n",
            " 'location': {'address1': '40 W 56th St',\n",
            "              'address2': None,\n",
            "              'address3': '',\n",
            "              'city': 'New York',\n",
            "              'country': 'US',\n",
            "              'display_address': ['40 W 56th St', 'New York, NY 10019'],\n",
            "              'state': 'NY',\n",
            "              'zip_code': '10019'},\n",
            " 'name': 'Blue Willow 夜来湘',\n",
            " 'phone': '+12122132299',\n",
            " 'rating': 4.5,\n",
            " 'review_count': 973,\n",
            " 'transactions': ['delivery', 'pickup'],\n",
            " 'url': 'https://www.yelp.com/biz/blue-willow-%E5%A4%9C%E6%9D%A5%E6%B9%98-new-york-2?adjust_creative=FXlRuFWrbRzecuY2jWQjgQ&utm_campaign=yelp_api_v3&utm_medium=api_v3_business_search&utm_source=FXlRuFWrbRzecuY2jWQjgQ'}\n"
          ]
        }
      ]
    },
    {
      "cell_type": "code",
      "source": [
        "with open('yelp_restaurants_data.json', 'w') as outfile:\n",
        "    json.dump(all_restaurants, outfile)"
      ],
      "metadata": {
        "id": "Lfpf9QJessoj"
      },
      "execution_count": 13,
      "outputs": []
    },
    {
      "cell_type": "code",
      "source": [],
      "metadata": {
        "id": "6V8_jtCtvz-E"
      },
      "execution_count": null,
      "outputs": []
    }
  ]
}